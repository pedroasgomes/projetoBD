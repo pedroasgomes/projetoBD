{
 "cells": [
  {
   "cell_type": "markdown",
   "id": "74c5d58a-b2ff-46fa-a361-fe749ede6117",
   "metadata": {
    "tags": []
   },
   "source": [
    "# Lab 10: SPs + Triggers"
   ]
  },
  {
   "cell_type": "markdown",
   "id": "320911ca-e1ce-4e4e-aef8-b34791471f6c",
   "metadata": {},
   "source": [
    "![Figure 1](../images/Bank%20Example%20-%20Printable.png \"Bank Database\")"
   ]
  },
  {
   "cell_type": "markdown",
   "id": "41fc5c29-8cb4-4513-a1ae-e12adfe5f3bd",
   "metadata": {},
   "source": [
    "O ficheiro bank.sql contém um conjunto de instruções SQL para criar a base de dados de exemplo ilustrada na Figura 1."
   ]
  },
  {
   "cell_type": "code",
   "execution_count": 2,
   "id": "c7111d83-501e-46c2-9394-1629ddf93204",
   "metadata": {
    "tags": []
   },
   "outputs": [
    {
     "name": "stdout",
     "output_type": "stream",
     "text": [
      "The sql extension is already loaded. To reload it, use:\n",
      "  %reload_ext sql\n"
     ]
    }
   ],
   "source": [
    "%load_ext sql \n",
    "%sql postgresql://db:db@postgres/db"
   ]
  },
  {
   "cell_type": "markdown",
   "id": "d5f25694-0092-463f-8f95-b01ec18fb93b",
   "metadata": {},
   "source": [
    "1. Implemente as seguintes funcionalidades:\n"
   ]
  },
  {
   "cell_type": "markdown",
   "id": "20bcf43d-b875-4bff-b014-428ed10aae1f",
   "metadata": {},
   "source": [
    "(a) Quem são os clientes que moram em cidades onde existem agências do banco?"
   ]
  },
  {
   "cell_type": "code",
   "execution_count": null,
   "id": "81479bd7-7b06-4b0a-8642-8dc03c0c1382",
   "metadata": {},
   "outputs": [],
   "source": []
  },
  {
   "cell_type": "markdown",
   "id": "367a6a9f-61e6-4161-b66d-0bc4466d9181",
   "metadata": {
    "tags": []
   },
   "source": [
    "(b) Escreva uma função que devolve a diferença entre o saldo médio das contas em duas agências dadas. A função tem como parâmetros as agências a comparar."
   ]
  },
  {
   "cell_type": "code",
   "execution_count": null,
   "id": "82d3d09a-1ad0-4667-9432-5951a2ab61dc",
   "metadata": {},
   "outputs": [],
   "source": []
  },
  {
   "cell_type": "markdown",
   "id": "e668ea19-9c23-42bd-968a-3ad2f528fb4b",
   "metadata": {},
   "source": [
    "(c) Usando a função desenvolvida na alínea anterior, escreva uma consulta que permita determinar qual é a agência cujo saldo médio é o maior."
   ]
  },
  {
   "cell_type": "code",
   "execution_count": null,
   "id": "93793875-6523-4bc9-8cb8-55cb42b461cf",
   "metadata": {},
   "outputs": [],
   "source": []
  },
  {
   "cell_type": "markdown",
   "id": "91aa0b1f-fa89-40e6-aa4b-08cf81b19897",
   "metadata": {
    "tags": []
   },
   "source": [
    "(d) A tabela depositor associa clientes a contas. Escreva em SQL os comandos necessários de modo a que se uma conta for apagada da tabela account, sejam também apagados os registos na tabela depositor correspondentes."
   ]
  },
  {
   "cell_type": "code",
   "execution_count": null,
   "id": "95c30c3c-016c-444a-861a-583f7c512acf",
   "metadata": {},
   "outputs": [],
   "source": []
  },
  {
   "cell_type": "markdown",
   "id": "6ad3da81-383e-464b-99ad-06081dbcb8d0",
   "metadata": {},
   "source": [
    "(e) Repita a alínea anterior para os empréstimos (i.e., com as tabelas borrower e loan)."
   ]
  },
  {
   "cell_type": "code",
   "execution_count": null,
   "id": "5e86a94b-90f1-46bd-a5a7-53a1b47594d8",
   "metadata": {},
   "outputs": [],
   "source": []
  },
  {
   "cell_type": "code",
   "execution_count": null,
   "id": "5d052536-a495-4ab5-9602-ebe4d2040191",
   "metadata": {},
   "outputs": [],
   "source": [
    "2. Implemente os seguintes triggers:"
   ]
  },
  {
   "cell_type": "markdown",
   "id": "d16d507c-b9d8-46fc-a3fb-4d3391d1c035",
   "metadata": {},
   "source": [
    "(a) Escreva um trigger que elimina um empréstimo de um cliente quando a respetiva quantia (amount) em dívida for inferior ou igual a zero. As amortizações de um empréstimo são feitas através de um update do campo amount na tabela loan. O trigger deverá assegurar que quando o amount seja negativo, o valor (negativo) seja adicionado como asset do branch respectivo, e o respectivo empréstimo seja eliminado das tabelas borrower e loan. Por exemplo, se o amount em dívida for 100 e for feito um update de 150, o empréstimo deverá ser eliminado e ao assets do branch deverá somar 50."
   ]
  },
  {
   "cell_type": "code",
   "execution_count": null,
   "id": "91fba096-68aa-4788-ba60-39d4f32d4d2b",
   "metadata": {},
   "outputs": [],
   "source": []
  },
  {
   "cell_type": "code",
   "execution_count": null,
   "id": "bc19e5a4-0dd7-41cc-8386-e79e619fbe84",
   "metadata": {},
   "outputs": [],
   "source": [
    "(b) Uma nova política do banco obriga a não conceder a partir de agora novos empréstimos a clientes que não estejam associados a contas no banco.\n",
    "Escreva um trigger para impedir a associação desses clientes a um empréstimo. "
   ]
  },
  {
   "cell_type": "code",
   "execution_count": null,
   "id": "110858e2-91ec-452f-8b3b-7caf3dcf5244",
   "metadata": {},
   "outputs": [],
   "source": []
  }
 ],
 "metadata": {
  "kernelspec": {
   "display_name": "Python 3 (ipykernel)",
   "language": "python",
   "name": "python3"
  },
  "language_info": {
   "codemirror_mode": {
    "name": "ipython",
    "version": 3
   },
   "file_extension": ".py",
   "mimetype": "text/x-python",
   "name": "python",
   "nbconvert_exporter": "python",
   "pygments_lexer": "ipython3",
   "version": "3.10.11"
  }
 },
 "nbformat": 4,
 "nbformat_minor": 5
}
