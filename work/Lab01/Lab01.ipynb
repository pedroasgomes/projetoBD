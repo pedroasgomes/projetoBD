{
 "cells": [
  {
   "cell_type": "markdown",
   "id": "3f3d57fd-32f3-4a09-bb32-166188c03a60",
   "metadata": {},
   "source": [
    "# Lab 01: Introdução ao ambiente"
   ]
  },
  {
   "cell_type": "markdown",
   "id": "f7a89974-8cb3-4a7b-af91-654f7b88d9f0",
   "metadata": {},
   "source": [
    "## Utilização da linha de comando\n",
    "\n",
    "Em geral todos os sistemas de gestão de base de dados dispõem de uma interface de linha de comando através da qual é possível executar instruções SQL e também outros comandos de administração e manutenção do sistema."
   ]
  },
  {
   "cell_type": "markdown",
   "id": "8ef5999b-bf60-45da-a187-9ada19735d97",
   "metadata": {},
   "source": [
    "**Nota:** Todos os comandos de administração começam com \\ (contra-barra ou barra invertida). Todos os comandos começam com uma instrução SQL (select, insert, update, delete, create,...) e terminam com ; (ponto e vírgula)."
   ]
  },
  {
   "cell_type": "markdown",
   "id": "4069fca4-3e3e-4ded-ad09-cfb7de84c4d5",
   "metadata": {
    "tags": []
   },
   "source": [
    "Abra uma janela de linha de comandos:\n",
    "1. Clique no botão azul no canto superior esquerdo desta interface.\n",
    "2. Na página apresentada selecione a opção Terminal contida na secção Other.\n",
    "3. No terminal utilize o comando `psql -h postgres -U db ⮐`\n",
    "4. Introduza a password: `db ⮐`"
   ]
  },
  {
   "cell_type": "markdown",
   "id": "3644eeb4-18f1-4ddd-b877-755c57d49b66",
   "metadata": {
    "tags": []
   },
   "source": [
    "Uma vez dentro do sistema, utilize o comando \\h ⮐ para obter informação sobre\n",
    "todos os comandos SQL disponíveis."
   ]
  },
  {
   "cell_type": "markdown",
   "id": "c411a60e-938e-434a-9e13-4c19e28f49db",
   "metadata": {},
   "source": [
    "Utilize o comando \\\\? ⮐ para obter informação sobre todos os comandos de\n",
    "administração disponíveis."
   ]
  },
  {
   "cell_type": "markdown",
   "id": "c17efca9-b337-4d83-840b-a51399fe6eff",
   "metadata": {},
   "source": [
    "Se precisar de sair do programa, pode utilizar a qualquer momento o comando: \\q ⮐."
   ]
  },
  {
   "cell_type": "markdown",
   "id": "74c5d58a-b2ff-46fa-a361-fe749ede6117",
   "metadata": {},
   "source": [
    "## Criação da base de dados exemplo ‘Bank’\n"
   ]
  },
  {
   "cell_type": "markdown",
   "id": "320911ca-e1ce-4e4e-aef8-b34791471f6c",
   "metadata": {},
   "source": [
    "![Figure 2](../images/Bank%20Example%20-%20Printable.png \"Bank Database\")"
   ]
  },
  {
   "cell_type": "markdown",
   "id": "41fc5c29-8cb4-4513-a1ae-e12adfe5f3bd",
   "metadata": {},
   "source": [
    "O ficheiro bank.sql contém um conjunto de instruções SQL para criar a base de dados de exemplo ilustrada na Figura 2."
   ]
  },
  {
   "cell_type": "markdown",
   "id": "0a6ca443-d9b3-4d65-b812-3b2ce8068dad",
   "metadata": {},
   "source": [
    "Para criar a base de dados é necessário criar as tabelas e carregar os registos de cada tabela. A criação das tabelas é feita com recurso à instrução CREATE TABLE. Por exemplo, a tabela de clientes pode ser criada com a seguinte instrução:"
   ]
  },
  {
   "cell_type": "markdown",
   "id": "845906ed-e159-4d49-a53a-1b15d50b81e6",
   "metadata": {
    "tags": []
   },
   "source": [
    "```sql\n",
    "create table customer\n",
    "   (customer_name \t\tvarchar(80)\tnot null unique,\n",
    "    customer_street \tvarchar(255)not null,\n",
    "    customer_city \t\tvarchar(30)\tnot null,\n",
    "    constraint pk_customer primary key(customer_name));\n",
    "```"
   ]
  },
  {
   "cell_type": "markdown",
   "id": "d1dfeae2-a8fc-49a3-82e1-c8d052e32b3a",
   "metadata": {},
   "source": [
    "Esta instrução especifica o nome da tabela, os nomes das três colunas, o tipo de cada coluna, e ainda restrições tais como os valores não poderem ser **NULL** e o facto da chave primária da tabela ser o nome do cliente."
   ]
  },
  {
   "cell_type": "markdown",
   "id": "55864e28-0923-4632-a6c9-0ea4fa4ae177",
   "metadata": {},
   "source": [
    "Os registos de cada tabela são carregados através de instruções do tipo **INSERT**. Por exemplo:"
   ]
  },
  {
   "cell_type": "markdown",
   "id": "83ef3b2c-e09e-4d3b-972f-dcb42a89dfb9",
   "metadata": {},
   "source": [
    "```sql\n",
    "insert into customer values ( 'Luis' , 'Rua do Cima' , 'Musgueira' );\n",
    "```"
   ]
  },
  {
   "cell_type": "markdown",
   "id": "1107c9b1-3072-4e90-8083-434554b59e63",
   "metadata": {},
   "source": [
    "Nesta instrução são especificados, respetivamente, os valores de cada coluna pela mesma ordem em que estes foram definidos aquando da criação da tabela . Esta instrução resulta na criação de um novo registo na tabela de clientes."
   ]
  },
  {
   "cell_type": "markdown",
   "id": "a907fddb-6cc8-452a-bc67-6f5ed3494dc4",
   "metadata": {},
   "source": [
    "Note-se que o ficheiro bank.sql inclui instruções para inserir mais registos na base de dados do que aqueles que se encontram exemplificados na Figura 2. Estes registos serão usados para realizar vários testes sobre a base de dados. Em aulas de laboratório futuras, iremos utilizar esta base de dados para demonstrar vários dos conceitos da disciplina."
   ]
  },
  {
   "cell_type": "markdown",
   "id": "b408235d-ec9f-4f8c-89b1-cddced3d322c",
   "metadata": {},
   "source": [
    "**Nota:** Muito embora também possa ser utilizada a interface gráfica pgAdmin, como forma de interagir com o sistema de gestão de bases de dados Postgres, nas aulas de laboratório iremos sobretudo utilizar a interface de linha de comandos. "
   ]
  },
  {
   "cell_type": "markdown",
   "id": "43cc6f76-e37a-45f1-85b5-0947c37c0c50",
   "metadata": {},
   "source": [
    "Para criar a base de dados de exemplo do Bank, execute o comando que irá carregar e executar as instruções SQL que estão no ficheiro bank.sql. O Postgres irá produzir algumas mensagens à medida que executa as instruções do ficheiro.\n",
    "\n",
    "**\\i bank.sql** ⮐"
   ]
  },
  {
   "cell_type": "markdown",
   "id": "99148054-008b-4092-bc57-11e98762f4e5",
   "metadata": {},
   "source": [
    "No final da execução, a base de dados de exemplo está criada."
   ]
  },
  {
   "cell_type": "markdown",
   "id": "bc338236-5d17-4a63-ab23-48ea0143194c",
   "metadata": {
    "tags": []
   },
   "source": [
    "Para listar as tabelas da base de dados, use o comando: **\\d** ⮐"
   ]
  },
  {
   "cell_type": "markdown",
   "id": "38c26336-80bf-45bf-9f22-99c881cdb241",
   "metadata": {},
   "source": [
    "O tempo que o sistema demora a responder a algumas consultas é um fator importante quando o volume de dados é considerável. Execute o comando:\n",
    "\n",
    "**\\timing** ⮐\n",
    "\n",
    "para ativar e desativar a cronometragem do tempo de execução dos comandos SQL.\n"
   ]
  },
  {
   "cell_type": "markdown",
   "id": "8ceb9ecf-c2ab-4e72-9688-7ee94ceb112b",
   "metadata": {},
   "source": [
    "Uma vez dentro da sessão Postgres, poderá efetuar algumas consultas introduzindo comandos SQL, nomeadamente:"
   ]
  },
  {
   "cell_type": "markdown",
   "id": "524c3a5a-5f45-49b7-9ee9-05c001496579",
   "metadata": {},
   "source": [
    "- ver a lista completa de clientes:\n",
    "\n",
    "```sql\n",
    "SELECT * FROM customer; ⮐\n",
    "```"
   ]
  },
  {
   "cell_type": "markdown",
   "id": "d3ccd142-9a58-4fdb-8083-1bc15aa5e3b7",
   "metadata": {
    "tags": []
   },
   "source": [
    "- ver a lista completa de contas:\n",
    "\n",
    "```sql\n",
    "SELECT * FROM account; ⮐\n",
    "```"
   ]
  },
  {
   "cell_type": "markdown",
   "id": "11013dca-528c-4df0-bd06-6bcd2cf648cd",
   "metadata": {},
   "source": [
    "- ver o saldo da conta A-101:\n",
    "\n",
    "```sql\n",
    "SELECT balance FROM account WHERE account_number='A-101'; ⮐\n",
    "```"
   ]
  },
  {
   "cell_type": "markdown",
   "id": "856a55dd-2676-4b9c-badd-9b97b132e168",
   "metadata": {
    "tags": []
   },
   "source": [
    "- ver todos os clientes que não são depositantes (i.e. não têm contas):\n",
    "\n",
    "```sql\n",
    "SELECT * FROM customer \n",
    "WHERE customer_name NOT IN (\n",
    "SELECT customer_name FROM depositor); ⮐\n",
    "```"
   ]
  },
  {
   "cell_type": "markdown",
   "id": "e77b8d3e-fbf7-4b27-96cb-b4449ea555f7",
   "metadata": {},
   "source": [
    "**Nota:** Em aulas futuras irá aprender a obter a resposta a consultas mais complexas."
   ]
  }
 ],
 "metadata": {
  "kernelspec": {
   "display_name": "Python 3 (ipykernel)",
   "language": "python",
   "name": "python3"
  },
  "language_info": {
   "codemirror_mode": {
    "name": "ipython",
    "version": 3
   },
   "file_extension": ".py",
   "mimetype": "text/x-python",
   "name": "python",
   "nbconvert_exporter": "python",
   "pygments_lexer": "ipython3",
   "version": "3.10.11"
  }
 },
 "nbformat": 4,
 "nbformat_minor": 5
}
